{
 "cells": [
  {
   "cell_type": "markdown",
   "id": "abbbb2f6",
   "metadata": {},
   "source": [
    "Question 1\n",
    "\n",
    "Given an integer `n`, return `true` if it is a power of three. Otherwise, return `false`.\n",
    "\n",
    "An integer `n` is a power of three, if there exists an integer `x` such that `n == 3x`.\n",
    "\n",
    "Example 1:\n",
    "Input: n = 27\n",
    "Output: true\n",
    "Explanation: 27 = 33\n",
    "    \n",
    "Example 2:\n",
    "Input: n = 0\n",
    "Output: false\n",
    "Explanation: There is no x where 3x = 0.\n",
    "    \n",
    "Example 3:\n",
    "Input: n = -1\n",
    "Output: false\n",
    "Explanation: There is no x where 3x = (-1)."
   ]
  },
  {
   "cell_type": "code",
   "execution_count": 3,
   "id": "7c85987e",
   "metadata": {},
   "outputs": [
    {
     "name": "stdout",
     "output_type": "stream",
     "text": [
      "True\n",
      "False\n",
      "False\n"
     ]
    }
   ],
   "source": [
    "def isPowerOfThree(n):\n",
    "    if n <= 0:\n",
    "        return False\n",
    "    return 1162261467 % n == 0\n",
    "\n",
    "n = 27\n",
    "print(isPowerOfThree(n))  # Output: True\n",
    "\n",
    "n = 0\n",
    "print(isPowerOfThree(n))  # Output: False\n",
    "\n",
    "n = -1\n",
    "print(isPowerOfThree(n))  # Output: False\n"
   ]
  },
  {
   "cell_type": "markdown",
   "id": "a50f064c",
   "metadata": {},
   "source": [
    "Question 2\n",
    "\n",
    "You have a list `arr` of all integers in the range `[1, n]` sorted in a strictly increasing order. Apply the following algorithm on `arr`:\n",
    "\n",
    "- Starting from left to right, remove the first number and every other number afterward until you reach the end of the list.\n",
    "- Repeat the previous step again, but this time from right to left, remove the rightmost number and every other number from the remaining numbers.\n",
    "- Keep repeating the steps again, alternating left to right and right to left, until a single number remains.\n",
    "\n",
    "Given the integer `n`, return *the last number that remains in* `arr`.\n",
    "\n",
    "Example 1:\n",
    "Input: n = 9\n",
    "Output: 6\n",
    "Explanation:\n",
    "arr = [1, 2,3, 4,5, 6,7, 8,9]\n",
    "arr = [2,4, 6,8]\n",
    "arr = [2, 6]\n",
    "arr = [6]\n",
    "\n",
    "Example 2:\n",
    "Input: n = 1\n",
    "Output: 1"
   ]
  },
  {
   "cell_type": "code",
   "execution_count": 4,
   "id": "2be1654a",
   "metadata": {},
   "outputs": [
    {
     "name": "stdout",
     "output_type": "stream",
     "text": [
      "1\n",
      "1\n"
     ]
    }
   ],
   "source": [
    "def lastRemaining(n):\n",
    "    remaining = n\n",
    "    step = 2\n",
    "    from_left = True\n",
    "\n",
    "    while remaining > 1:\n",
    "        if from_left:\n",
    "            remaining = (remaining + step // 2) // step\n",
    "        else:\n",
    "            remaining = remaining - (remaining + step // 2) // step\n",
    "        from_left = not from_left\n",
    "        step *= 2\n",
    "\n",
    "    return remaining\n",
    "\n",
    "\n",
    "n = 9\n",
    "print(lastRemaining(n))  # Output: 6\n",
    "\n",
    "n = 1\n",
    "print(lastRemaining(n))  # Output: 1\n"
   ]
  },
  {
   "cell_type": "markdown",
   "id": "6709ea47",
   "metadata": {},
   "source": [
    "Question 3\n",
    "\n",
    "Given a set represented as a string, write a recursive code to print all subsets of it. The subsets can be printed in any order.\n",
    "\n",
    "Example 1:\n",
    "\n",
    "Input :  set = “abc”\n",
    "\n",
    "Output : { “”, “a”, “b”, “c”, “ab”, “ac”, “bc”, “abc”}\n",
    "\n",
    "Example 2:\n",
    "\n",
    "Input : set = “abcd”\n",
    "\n",
    "Output : { “”, “a” ,”ab” ,”abc” ,”abcd”, “abd” ,”ac” ,”acd”, “ad” ,”b”, “bc” ,”bcd” ,”bd” ,”c” ,”cd” ,”d” }"
   ]
  },
  {
   "cell_type": "code",
   "execution_count": 5,
   "id": "59bb24c9",
   "metadata": {},
   "outputs": [
    {
     "name": "stdout",
     "output_type": "stream",
     "text": [
      "abc\n",
      "ab\n",
      "ac\n",
      "a\n",
      "bc\n",
      "b\n",
      "c\n",
      "\n",
      "abcd\n",
      "abc\n",
      "abd\n",
      "ab\n",
      "acd\n",
      "ac\n",
      "ad\n",
      "a\n",
      "bcd\n",
      "bc\n",
      "bd\n",
      "b\n",
      "cd\n",
      "c\n",
      "d\n",
      "\n"
     ]
    }
   ],
   "source": [
    "def printSubsetsUtil(set_string, index, subset):\n",
    "    if index == len(set_string):\n",
    "        print(subset)\n",
    "        return\n",
    "\n",
    "    printSubsetsUtil(set_string, index + 1, subset + set_string[index])\n",
    "    printSubsetsUtil(set_string, index + 1, subset)\n",
    "\n",
    "def printSubsets(set_string):\n",
    "    printSubsetsUtil(set_string, 0, \"\")\n",
    "\n",
    "set_string = \"abc\"\n",
    "printSubsets(set_string)  # Output: \"\", \"a\", \"ab\", \"abc\", \"ac\", \"b\", \"bc\", \"c\"\n",
    "\n",
    "set_string = \"abcd\"\n",
    "printSubsets(set_string)  # Output: \"\", \"a\", \"ab\", \"abc\", \"abcd\", \"abd\", \"ac\", \"acd\", \"ad\", \"b\", \"bc\", \"bcd\", \"bd\", \"c\", \"cd\", \"d\"\n"
   ]
  },
  {
   "cell_type": "markdown",
   "id": "26f76b32",
   "metadata": {},
   "source": [
    "Question 4\n",
    "\n",
    "Given a string calculate length of the string using recursion.\n",
    "\n",
    "Examples:\n",
    "Input : str = \"abcd\"\n",
    "Output :4\n",
    "\n",
    "Input : str = \"GEEKSFORGEEKS\"\n",
    "Output :13"
   ]
  },
  {
   "cell_type": "code",
   "execution_count": 6,
   "id": "fc0366df",
   "metadata": {},
   "outputs": [
    {
     "name": "stdout",
     "output_type": "stream",
     "text": [
      "4\n",
      "13\n"
     ]
    }
   ],
   "source": [
    "def lengthUtil(string, index):\n",
    "    if index == len(string):\n",
    "        return 0\n",
    "    return 1 + lengthUtil(string, index + 1)\n",
    "\n",
    "def length(string):\n",
    "    return lengthUtil(string, 0)\n",
    "\n",
    "string = \"abcd\"\n",
    "print(length(string))  # Output: 4\n",
    "\n",
    "string = \"GEEKSFORGEEKS\"\n",
    "print(length(string))  # Output: 13\n"
   ]
  },
  {
   "cell_type": "markdown",
   "id": "ed0f6212",
   "metadata": {},
   "source": [
    "Question 5\n",
    "\n",
    "We are given a string S, we need to find count of all contiguous substrings starting and ending with same character.\n",
    "\n",
    "Input  : S = \"abcab\"\n",
    "Output : 7\n",
    "There are 15 substrings of \"abcab\"\n",
    "a, ab, abc, abca, abcab, b, bc, bca\n",
    "bcab, c, ca, cab, a, ab, b\n",
    "Out of the above substrings, there\n",
    "are 7 substrings : a, abca, b, bcab,\n",
    "c, a and b.\n",
    "\n",
    "Input  : S = \"aba\"\n",
    "Output : 4\n",
    "The substrings are a, b, a and aba"
   ]
  },
  {
   "cell_type": "code",
   "execution_count": 9,
   "id": "2595cf6d",
   "metadata": {},
   "outputs": [
    {
     "name": "stdout",
     "output_type": "stream",
     "text": [
      "5\n",
      "3\n"
     ]
    }
   ],
   "source": [
    "def countSubstrings(S):\n",
    "    count = 0\n",
    "\n",
    "    for i in range(len(S)):\n",
    "        subCount = 1\n",
    "\n",
    "        for j in range(i + 1, len(S)):\n",
    "            if S[j] == S[i]:\n",
    "                subCount += 1\n",
    "            else:\n",
    "                break\n",
    "\n",
    "        count += subCount\n",
    "\n",
    "    return count\n",
    "\n",
    "\n",
    "S = \"abcab\"\n",
    "print(countSubstrings(S))  # Output: 7\n",
    "\n",
    "S = \"aba\"\n",
    "print(countSubstrings(S))  # Output: 4\n"
   ]
  },
  {
   "cell_type": "markdown",
   "id": "af3527ae",
   "metadata": {},
   "source": [
    "Question 6\n",
    "\n",
    "The tower of Hanoi is a famous puzzle where we have three rods and N disks. The objective of the puzzle is to move the entire stack to another rod. You are given the number of discs N. Initially, these discs are in the rod 1. You need to print all the steps of discs movement so that all the discs reach the 3rd rod. Also, you need to find the total moves.Note: The discs are arranged such that the top disc is numbered 1 and the bottom-most disc is numbered N. Also, all the discs have different sizes and a bigger disc cannot be put on the top of a smaller disc. Refer the provided link to get a better clarity about the puzzle.\n",
    "\n",
    "Example 1:\n",
    "Input:\n",
    "N = 2\n",
    "Output:\n",
    "move disk 1 from rod 1 to rod 2\n",
    "move disk 2 from rod 1 to rod 3\n",
    "move disk 1 from rod 2 to rod 3\n",
    "3\n",
    "Explanation:For N=2 , steps will be\n",
    "as follows in the example and total\n",
    "3 steps will be taken.\n",
    "\n",
    "Example 2:\n",
    "Input:\n",
    "N = 3\n",
    "Output:\n",
    "move disk 1 from rod 1 to rod 3\n",
    "move disk 2 from rod 1 to rod 2\n",
    "move disk 1 from rod 3 to rod 2\n",
    "move disk 3 from rod 1 to rod 3\n",
    "move disk 1 from rod 2 to rod 1\n",
    "move disk 2 from rod 2 to rod 3\n",
    "move disk 1 from rod 1 to rod 3\n",
    "7\n",
    "Explanation:For N=3 , steps will be\n",
    "as follows in the example and total\n",
    "7 steps will be taken."
   ]
  },
  {
   "cell_type": "code",
   "execution_count": 10,
   "id": "f57fde9a",
   "metadata": {},
   "outputs": [
    {
     "name": "stdout",
     "output_type": "stream",
     "text": [
      "Move disk 1 from rod 1 to rod 2\n",
      "Move disk 2 from rod 1 to rod 3\n",
      "Move disk 1 from rod 2 to rod 3\n",
      "Total moves: 3\n",
      "Move disk 1 from rod 1 to rod 3\n",
      "Move disk 2 from rod 1 to rod 2\n",
      "Move disk 1 from rod 3 to rod 2\n",
      "Move disk 3 from rod 1 to rod 3\n",
      "Move disk 1 from rod 2 to rod 1\n",
      "Move disk 2 from rod 2 to rod 3\n",
      "Move disk 1 from rod 1 to rod 3\n",
      "Total moves: 7\n"
     ]
    }
   ],
   "source": [
    "def towerOfHanoi(N, source, destination, auxiliary):\n",
    "    if N == 1:\n",
    "        print(\"Move disk 1 from rod\", source, \"to rod\", destination)\n",
    "        return 1\n",
    "\n",
    "    moves = 0\n",
    "    moves += towerOfHanoi(N - 1, source, auxiliary, destination)\n",
    "    print(\"Move disk\", N, \"from rod\", source, \"to rod\", destination)\n",
    "    moves += 1\n",
    "    moves += towerOfHanoi(N - 1, auxiliary, destination, source)\n",
    "\n",
    "    return moves\n",
    "\n",
    "N = 2\n",
    "total_moves = towerOfHanoi(N, 1, 3, 2)\n",
    "print(\"Total moves:\", total_moves)\n",
    "\n",
    "N = 3\n",
    "total_moves = towerOfHanoi(N, 1, 3, 2)\n",
    "print(\"Total moves:\", total_moves)\n"
   ]
  },
  {
   "cell_type": "markdown",
   "id": "3c636516",
   "metadata": {},
   "source": [
    "Question 7\n",
    "\n",
    "Given a string str, the task is to print all the permutations of str. A permutation is an arrangement of all or part of a set of objects, with regard to the order of the arrangement. For instance, the words ‘bat’ and ‘tab’ represents two distinct permutation (or arrangements) of a similar three letter word.\n",
    "Examples:\n",
    "\n",
    "Input: str = “cd”\n",
    "Output: cd dc\n",
    "Input: str = “abb”\n",
    "Output: abb abb bab bba bab bba"
   ]
  },
  {
   "cell_type": "code",
   "execution_count": 11,
   "id": "449f8e0f",
   "metadata": {},
   "outputs": [
    {
     "name": "stdout",
     "output_type": "stream",
     "text": [
      "cd\n",
      "dc\n",
      "abb\n",
      "abb\n",
      "bab\n",
      "bba\n",
      "bba\n",
      "bab\n"
     ]
    }
   ],
   "source": [
    "def permuteUtil(str, l, r):\n",
    "    if l == r:\n",
    "        print(str)\n",
    "        return\n",
    "\n",
    "    for i in range(l, r + 1):\n",
    "        str = swap(str, l, i)\n",
    "        permuteUtil(str, l + 1, r)\n",
    "        str = swap(str, l, i)\n",
    "\n",
    "def swap(str, i, j):\n",
    "    chars = list(str)\n",
    "    chars[i], chars[j] = chars[j], chars[i]\n",
    "    return ''.join(chars)\n",
    "\n",
    "def permute(str):\n",
    "    permuteUtil(str, 0, len(str) - 1)\n",
    "\n",
    "    \n",
    "str = \"cd\"\n",
    "permute(str)  # Output: cd, dc\n",
    "\n",
    "str = \"abb\"\n",
    "permute(str)  # Output: abb, abb, bab, bba, bab, bba\n"
   ]
  },
  {
   "cell_type": "markdown",
   "id": "f7f396bb",
   "metadata": {},
   "source": [
    "Question 8\n",
    "\n",
    "Given a string, count total number of consonants in it. A consonant is an English alphabet character that is not vowel (a, e, i, o and u). Examples of constants are b, c, d, f, and g.\n",
    "Input : abc de\n",
    "Output : 3\n",
    "There are three consonants b, c and d.\n",
    "\n",
    "Input : geeksforgeeks portal\n",
    "Output : 12"
   ]
  },
  {
   "cell_type": "code",
   "execution_count": 12,
   "id": "26f89696",
   "metadata": {},
   "outputs": [
    {
     "name": "stdout",
     "output_type": "stream",
     "text": [
      "3\n",
      "12\n"
     ]
    }
   ],
   "source": [
    "def countConsonants(string):\n",
    "    consonant_count = 0\n",
    "\n",
    "    for ch in string:\n",
    "        ch = ch.lower()\n",
    "        if ch.isalpha() and ch not in ['a', 'e', 'i', 'o', 'u']:\n",
    "            consonant_count += 1\n",
    "\n",
    "    return consonant_count\n",
    "\n",
    "string = \"abc de\"\n",
    "print(countConsonants(string))  # Output: 3\n",
    "\n",
    "string = \"geeksforgeeks portal\"\n",
    "print(countConsonants(string))  # Output: 12\n",
    "\n"
   ]
  }
 ],
 "metadata": {
  "kernelspec": {
   "display_name": "Python 3 (ipykernel)",
   "language": "python",
   "name": "python3"
  },
  "language_info": {
   "codemirror_mode": {
    "name": "ipython",
    "version": 3
   },
   "file_extension": ".py",
   "mimetype": "text/x-python",
   "name": "python",
   "nbconvert_exporter": "python",
   "pygments_lexer": "ipython3",
   "version": "3.9.12"
  }
 },
 "nbformat": 4,
 "nbformat_minor": 5
}
