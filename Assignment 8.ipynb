{
 "cells": [
  {
   "cell_type": "markdown",
   "id": "11707602",
   "metadata": {},
   "source": [
    "Question 1\n",
    "\n",
    "Given two strings s1 and s2, return the lowest ASCII sum of deleted characters to make two strings equal.\n",
    "\n",
    "Example 1:\n",
    "\n",
    "Input: s1 = \"sea\", s2 = \"eat\"\n",
    "\n",
    "Output: 231\n",
    "\n",
    "Explanation: Deleting \"s\" from \"sea\" adds the ASCII value of \"s\" (115) to the sum.\n",
    "\n",
    "Deleting \"t\" from \"eat\" adds 116 to the sum.\n",
    "\n",
    "At the end, both strings are equal, and 115 + 116 = 231 is the minimum sum possible to achieve this."
   ]
  },
  {
   "cell_type": "code",
   "execution_count": 1,
   "id": "511f88b7",
   "metadata": {},
   "outputs": [
    {
     "name": "stdout",
     "output_type": "stream",
     "text": [
      "231\n"
     ]
    }
   ],
   "source": [
    "def minimumDeleteSum(s1, s2):\n",
    "    m, n = len(s1), len(s2)\n",
    "    dp = [[0] * (n + 1) for _ in range(m + 1)]\n",
    "\n",
    "    for i in range(1, m + 1):\n",
    "        dp[i][0] = dp[i - 1][0] + ord(s1[i - 1])\n",
    "\n",
    "    for j in range(1, n + 1):\n",
    "        dp[0][j] = dp[0][j - 1] + ord(s2[j - 1])\n",
    "\n",
    "    for i in range(1, m + 1):\n",
    "        for j in range(1, n + 1):\n",
    "            if s1[i - 1] == s2[j - 1]:\n",
    "                dp[i][j] = dp[i - 1][j - 1]\n",
    "            else:\n",
    "                dp[i][j] = min(dp[i - 1][j] + ord(s1[i - 1]), dp[i][j - 1] + ord(s2[j - 1]))\n",
    "\n",
    "    return dp[m][n]\n",
    "\n",
    "s1 = \"sea\"\n",
    "s2 = \"eat\"\n",
    "print(minimumDeleteSum(s1, s2))  # Output: 231"
   ]
  },
  {
   "cell_type": "markdown",
   "id": "e021adff",
   "metadata": {},
   "source": [
    "Question 2\n",
    "\n",
    "Given a string s containing only three types of characters: '(', ')' and '*', return true if s is valid.\n",
    "\n",
    "The following rules define a valid string:\n",
    "\n",
    "- Any left parenthesis '(' must have a corresponding right parenthesis ')'.\n",
    "- Any right parenthesis ')' must have a corresponding left parenthesis '('.\n",
    "- Left parenthesis '(' must go before the corresponding right parenthesis ')'.\n",
    "- '*' could be treated as a single right parenthesis ')' or a single left parenthesis '(' or an empty string \"\".\n",
    "\n",
    "Example 1:\n",
    "\n",
    "Input: s = \"()\"\n",
    "\n",
    "Output:\n",
    "\n",
    "true"
   ]
  },
  {
   "cell_type": "code",
   "execution_count": 2,
   "id": "86259ab9",
   "metadata": {},
   "outputs": [
    {
     "name": "stdout",
     "output_type": "stream",
     "text": [
      "True\n"
     ]
    }
   ],
   "source": [
    "def checkValidString(s):\n",
    "    stack = []\n",
    "\n",
    "    for c in s:\n",
    "        if c == '(' or c == '*':\n",
    "            stack.append(c)\n",
    "        elif c == ')':\n",
    "            if stack and (stack[-1] == '(' or stack[-1] == '*'):\n",
    "                stack.pop()\n",
    "            else:\n",
    "                return False\n",
    "\n",
    "    while stack:\n",
    "        if stack.pop() == '(':\n",
    "            return False\n",
    "\n",
    "    return True\n",
    "\n",
    "s = \"()\"\n",
    "print(checkValidString(s))  # Output: True"
   ]
  },
  {
   "cell_type": "markdown",
   "id": "f7c0121d",
   "metadata": {},
   "source": [
    "Question 3\n",
    "\n",
    "Given two strings word1 and word2, return *the minimum number of steps required to make word1 and word2 the same.\n",
    "\n",
    "In one step, you can delete exactly one character in either string.\n",
    "\n",
    "Example 1:\n",
    "\n",
    "Input: word1 = \"sea\", word2 = \"eat\"\n",
    "\n",
    "Output: 2\n",
    "\n",
    "Explanation: You need one step to make \"sea\" to \"ea\" and another step to make \"eat\" to \"ea\"."
   ]
  },
  {
   "cell_type": "code",
   "execution_count": 3,
   "id": "92feb3f5",
   "metadata": {},
   "outputs": [
    {
     "name": "stdout",
     "output_type": "stream",
     "text": [
      "2\n"
     ]
    }
   ],
   "source": [
    "def minDistance(word1, word2):\n",
    "    m, n = len(word1), len(word2)\n",
    "    dp = [[0] * (n + 1) for _ in range(m + 1)]\n",
    "\n",
    "    for i in range(1, m + 1):\n",
    "        dp[i][0] = i\n",
    "\n",
    "    for j in range(1, n + 1):\n",
    "        dp[0][j] = j\n",
    "\n",
    "    for i in range(1, m + 1):\n",
    "        for j in range(1, n + 1):\n",
    "            if word1[i - 1] == word2[j - 1]:\n",
    "                dp[i][j] = dp[i - 1][j - 1]\n",
    "            else:\n",
    "                dp[i][j] = min(dp[i - 1][j] + 1, dp[i][j - 1] + 1)\n",
    "\n",
    "    return dp[m][n]\n",
    "\n",
    "word1 = \"sea\"\n",
    "word2 = \"eat\"\n",
    "print(minDistance(word1, word2))  # Output: 2"
   ]
  },
  {
   "cell_type": "markdown",
   "id": "cdabe874",
   "metadata": {},
   "source": [
    "Question 4\n",
    "\n",
    "You need to construct a binary tree from a string consisting of parenthesis and integers.\n",
    "\n",
    "The whole input represents a binary tree. It contains an integer followed by zero, one or two pairs of parenthesis. The integer represents the root's value and a pair of parenthesis contains a child binary tree with the same structure.\n",
    "You always start to construct the left child node of the parent first if it exists.\n",
    "\n",
    "Input: s = \"4(2(3)(1))(6(5))\"\n",
    "\n",
    "Output:[4,2,6,3,1,5]"
   ]
  },
  {
   "cell_type": "code",
   "execution_count": 5,
   "id": "86a3ca59",
   "metadata": {},
   "outputs": [],
   "source": [
    "class TreeNode:\n",
    "    def __init__(self, val=0, left=None, right=None):\n",
    "        self.val = val\n",
    "        self.left = left\n",
    "        self.right = right\n",
    "\n",
    "\n",
    "def buildTree(s, index):\n",
    "    if s[index].isdigit():\n",
    "        value = \"\"\n",
    "        while index < len(s) and s[index].isdigit():\n",
    "            value += s[index]\n",
    "            index += 1\n",
    "        return [TreeNode(int(value)), index]\n",
    "    \n",
    "    tree = []\n",
    "    if s[index] == '(':\n",
    "        left_result = buildTree(s, index + 1)\n",
    "        tree.append(left_result[0])\n",
    "        index = left_result[1] + 1\n",
    "\n",
    "    if s[index] == '(':\n",
    "        right_result = buildTree(s, index + 1)\n",
    "        tree.append(right_result[0])\n",
    "        index = right_result[1] + 1\n",
    "\n",
    "    return [tree, index]\n",
    "\n",
    "\n",
    "def str2tree(s):\n",
    "    if not s:\n",
    "        return None\n",
    "    result = buildTree(s, 0)\n",
    "    return result[0]\n",
    "\n",
    "s = \"4(2(3)(1))(6(5))\"\n",
    "root = str2tree(s)"
   ]
  },
  {
   "cell_type": "markdown",
   "id": "9b309b1f",
   "metadata": {},
   "source": [
    "Question 5\n",
    "\n",
    "Given an array of characters chars, compress it using the following algorithm:\n",
    "\n",
    "Begin with an empty string s. For each group of consecutive repeating characters in chars:\n",
    "\n",
    "- If the group's length is 1, append the character to s.\n",
    "- Otherwise, append the character followed by the group's length.\n",
    "\n",
    "The compressed string s should not be returned separately, but instead, be stored in the input character array chars. Note that group lengths that are 10 or longer will be split into multiple characters in chars.\n",
    "\n",
    "After you are done modifying the input array, return the new length of the array.\n",
    "\n",
    "You must write an algorithm that uses only constant extra space.\n",
    "\n",
    "Example 1:\n",
    "\n",
    "Input: chars = [\"a\",\"a\",\"b\",\"b\",\"c\",\"c\",\"c\"]\n",
    "\n",
    "Output: Return 6, and the first 6 characters of the input array should be: [\"a\",\"2\",\"b\",\"2\",\"c\",\"3\"]\n",
    "\n",
    "Explanation:\n",
    "\n",
    "The groups are \"aa\", \"bb\", and \"ccc\". This compresses to \"a2b2c3\"."
   ]
  },
  {
   "cell_type": "code",
   "execution_count": 6,
   "id": "d1cf692d",
   "metadata": {},
   "outputs": [
    {
     "name": "stdout",
     "output_type": "stream",
     "text": [
      "6\n",
      "['a', '2', 'b', '2', 'c', '3']\n"
     ]
    }
   ],
   "source": [
    "def compress(chars):\n",
    "    anchor = write = 0\n",
    "    prev = \"\"\n",
    "\n",
    "    for read, char in enumerate(chars):\n",
    "        if read == 0 or char != prev:\n",
    "            prev = char\n",
    "            chars[write] = char\n",
    "            write += 1\n",
    "            anchor = read\n",
    "        elif read == len(chars) - 1 or char != chars[read + 1]:\n",
    "            length = read - anchor + 1\n",
    "            for digit in str(length):\n",
    "                chars[write] = digit\n",
    "                write += 1\n",
    "\n",
    "    return write\n",
    "\n",
    "\n",
    "chars = [\"a\", \"a\", \"b\", \"b\", \"c\", \"c\", \"c\"]\n",
    "compressed_length = compress(chars)\n",
    "print(compressed_length)  # Output: 6\n",
    "print(chars[:compressed_length])  # Output: [\"a\", \"2\", \"b\", \"2\", \"c\", \"3\"]\n"
   ]
  },
  {
   "cell_type": "markdown",
   "id": "036dea71",
   "metadata": {},
   "source": [
    "Question 6\n",
    "\n",
    "Given two strings s and p, return an array of all the start indices of p's anagrams in* s. You may return the answer in any order.\n",
    "\n",
    "An Anagram is a word or phrase formed by rearranging the letters of a different word or phrase, typically using all the original letters exactly once.\n",
    "\n",
    "Example 1:\n",
    "\n",
    "Input: s = \"cbaebabacd\", p = \"abc\"\n",
    "\n",
    "Output: [0,6]\n",
    "\n",
    "Explanation:\n",
    "\n",
    "The substring with start index = 0 is \"cba\", which is an anagram of \"abc\".\n",
    "\n",
    "The substring with start index = 6 is \"bac\", which is an anagram of \"abc\"."
   ]
  },
  {
   "cell_type": "code",
   "execution_count": 7,
   "id": "a87e952a",
   "metadata": {},
   "outputs": [
    {
     "name": "stdout",
     "output_type": "stream",
     "text": [
      "[0, 6]\n"
     ]
    }
   ],
   "source": [
    "from collections import Counter\n",
    "\n",
    "def findAnagrams(s, p):\n",
    "    result = []\n",
    "    freq_p = Counter(p)\n",
    "    freq_s = Counter()\n",
    "\n",
    "    left = right = 0\n",
    "    window_size = len(p)\n",
    "\n",
    "    while right < len(s):\n",
    "        freq_s[s[right]] += 1\n",
    "\n",
    "        if right - left + 1 > window_size:\n",
    "            freq_s[s[left]] -= 1\n",
    "            if freq_s[s[left]] == 0:\n",
    "                del freq_s[s[left]]\n",
    "            left += 1\n",
    "\n",
    "        if freq_s == freq_p:\n",
    "            result.append(left)\n",
    "\n",
    "        right += 1\n",
    "\n",
    "    return result\n",
    "\n",
    "\n",
    "s = \"cbaebabacd\"\n",
    "p = \"abc\"\n",
    "print(findAnagrams(s, p))  # Output: [0, 6]\n"
   ]
  },
  {
   "cell_type": "markdown",
   "id": "5ed315ae",
   "metadata": {},
   "source": [
    "Question 7\n",
    "\n",
    "Given an encoded string, return its decoded string.\n",
    "\n",
    "The encoding rule is: k[encoded_string], where the encoded_string inside the square brackets is being repeated exactly k times. Note that k is guaranteed to be a positive integer.\n",
    "\n",
    "You may assume that the input string is always valid; there are no extra white spaces, square brackets are well-formed, etc. Furthermore, you may assume that the original data does not contain any digits and that digits are only for those repeat numbers, k. For example, there will not be input like 3a or 2[4].\n",
    "\n",
    "The test cases are generated so that the length of the output will never exceed 105.\n",
    "\n",
    "Example 1:\n",
    "\n",
    "Input: s = \"3[a]2[bc]\"\n",
    "\n",
    "Output: \"aaabcbc\""
   ]
  },
  {
   "cell_type": "code",
   "execution_count": 8,
   "id": "79bf0fa7",
   "metadata": {},
   "outputs": [
    {
     "name": "stdout",
     "output_type": "stream",
     "text": [
      "aaabcbc\n"
     ]
    }
   ],
   "source": [
    "def decodeString(s):\n",
    "    stack = []\n",
    "    \n",
    "    for char in s:\n",
    "        if char != ']':\n",
    "            stack.append(char)\n",
    "        else:\n",
    "            substring = \"\"\n",
    "            while stack and stack[-1] != '[':\n",
    "                substring = stack.pop() + substring\n",
    "            \n",
    "            stack.pop()  # Pop '['\n",
    "            \n",
    "            repeat_count = \"\"\n",
    "            while stack and stack[-1].isdigit():\n",
    "                repeat_count = stack.pop() + repeat_count\n",
    "            \n",
    "            repeat_count = int(repeat_count)\n",
    "            \n",
    "            decoded_substring = substring * repeat_count\n",
    "            for char in decoded_substring:\n",
    "                stack.append(char)\n",
    "    \n",
    "    return ''.join(stack)\n",
    "\n",
    "s = \"3[a]2[bc]\"\n",
    "print(decodeString(s))  # Output: \"aaabcbc\"\n"
   ]
  },
  {
   "cell_type": "markdown",
   "id": "314e08bc",
   "metadata": {},
   "source": [
    "Question 8\n",
    "\n",
    "Given two strings s and goal, return true if you can swap two letters in s so the result is equal to goal, otherwise, return false.\n",
    "\n",
    "Swapping letters is defined as taking two indices i and j (0-indexed) such that i != j and swapping the characters at s[i] and s[j].\n",
    "\n",
    "- For example, swapping at indices 0 and 2 in \"abcd\" results in \"cbad\".\n",
    "\n",
    "Example 1:\n",
    "\n",
    "Input: s = \"ab\", goal = \"ba\"\n",
    "\n",
    "Output: true\n",
    "\n",
    "Explanation: You can swap s[0] = 'a' and s[1] = 'b' to get \"ba\", which is equal to goal."
   ]
  },
  {
   "cell_type": "code",
   "execution_count": 9,
   "id": "93c7121d",
   "metadata": {},
   "outputs": [
    {
     "name": "stdout",
     "output_type": "stream",
     "text": [
      "True\n"
     ]
    }
   ],
   "source": [
    "def buddyStrings(s, goal):\n",
    "    if len(s) != len(goal):\n",
    "        return False\n",
    "\n",
    "    diff_count = 0\n",
    "    diff_positions = []\n",
    "\n",
    "    for i in range(len(s)):\n",
    "        if s[i] != goal[i]:\n",
    "            diff_count += 1\n",
    "            diff_positions.append(i)\n",
    "\n",
    "        if diff_count > 2:\n",
    "            return False\n",
    "\n",
    "    if diff_count == 2 and s[diff_positions[0]] == goal[diff_positions[1]] and s[diff_positions[1]] == goal[diff_positions[0]]:\n",
    "        return True\n",
    "\n",
    "    if diff_count == 0 and len(set(s)) < len(s):\n",
    "        return True\n",
    "\n",
    "    return False\n",
    "\n",
    "\n",
    "s = \"ab\"\n",
    "goal = \"ba\"\n",
    "print(buddyStrings(s, goal))  # Output: True\n"
   ]
  }
 ],
 "metadata": {
  "kernelspec": {
   "display_name": "Python 3 (ipykernel)",
   "language": "python",
   "name": "python3"
  },
  "language_info": {
   "codemirror_mode": {
    "name": "ipython",
    "version": 3
   },
   "file_extension": ".py",
   "mimetype": "text/x-python",
   "name": "python",
   "nbconvert_exporter": "python",
   "pygments_lexer": "ipython3",
   "version": "3.9.12"
  }
 },
 "nbformat": 4,
 "nbformat_minor": 5
}
