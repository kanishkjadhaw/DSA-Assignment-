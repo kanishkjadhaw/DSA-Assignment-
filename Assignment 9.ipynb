{
 "cells": [
  {
   "cell_type": "markdown",
   "id": "351c2aa6",
   "metadata": {},
   "source": [
    "Question 1\n",
    "\n",
    "Given an integer `n`, return `true` if it is a power of two. Otherwise, return `false`.\n",
    "\n",
    "An integer `n` is a power of two, if there exists an integer `x` such that `n == 2x`.\n",
    "\n",
    "Example 1:\n",
    "Input: n = 1 \n",
    "\n",
    "Output: true\n",
    "\n",
    "Example 2:\n",
    "Input: n = 16 \n",
    "\n",
    "Output: true\n",
    "\n",
    "Example 3:\n",
    "Input: n = 3 \n",
    "\n",
    "Output: false"
   ]
  },
  {
   "cell_type": "code",
   "execution_count": 2,
   "id": "e180d93c",
   "metadata": {},
   "outputs": [
    {
     "name": "stdout",
     "output_type": "stream",
     "text": [
      "True\n",
      "True\n",
      "False\n"
     ]
    }
   ],
   "source": [
    "def isPowerOfTwo(n):\n",
    "    return n > 0 and (n & (n - 1)) == 0\n",
    "\n",
    "n = 1\n",
    "print(isPowerOfTwo(n))  # Output: True\n",
    "\n",
    "n = 16\n",
    "print(isPowerOfTwo(n))  # Output: True\n",
    "\n",
    "n = 3\n",
    "print(isPowerOfTwo(n))  # Output: False\n"
   ]
  },
  {
   "cell_type": "markdown",
   "id": "0519e05d",
   "metadata": {},
   "source": [
    "Question 2\n",
    "\n",
    "Given a number n, find the sum of the first natural numbers.\n",
    "\n",
    "Example 1:\n",
    "\n",
    "Input: n = 3 \n",
    "\n",
    "Output: 6\n",
    "\n",
    "Example 2:\n",
    "\n",
    "Input  : 5 \n",
    "\n",
    "Output : 15"
   ]
  },
  {
   "cell_type": "code",
   "execution_count": 3,
   "id": "bffc7263",
   "metadata": {},
   "outputs": [
    {
     "name": "stdout",
     "output_type": "stream",
     "text": [
      "6\n",
      "15\n"
     ]
    }
   ],
   "source": [
    "def sumOfFirstNNumbers(n):\n",
    "    return (n * (n + 1)) // 2\n",
    "\n",
    "n = 3\n",
    "print(sumOfFirstNNumbers(n))  # Output: 6\n",
    "\n",
    "n = 5\n",
    "print(sumOfFirstNNumbers(n))  # Output: 15\n"
   ]
  },
  {
   "cell_type": "markdown",
   "id": "0c56c131",
   "metadata": {},
   "source": [
    "Question 3\n",
    "\n",
    "Given a positive integer, N. Find the factorial of N. \n",
    "\n",
    "Example 1:\n",
    "\n",
    "Input: N = 5 \n",
    "\n",
    "Output: 120\n",
    "\n",
    "Example 2:\n",
    "\n",
    "Input: N = 4\n",
    "\n",
    "Output: 24"
   ]
  },
  {
   "cell_type": "code",
   "execution_count": 4,
   "id": "f7dc5acb",
   "metadata": {},
   "outputs": [
    {
     "name": "stdout",
     "output_type": "stream",
     "text": [
      "120\n",
      "24\n"
     ]
    }
   ],
   "source": [
    "def factorial(N):\n",
    "    if N == 0 or N == 1:\n",
    "        return 1\n",
    "    else:\n",
    "        return N * factorial(N - 1)\n",
    "\n",
    "N = 5\n",
    "print(factorial(N))  # Output: 120\n",
    "\n",
    "N = 4\n",
    "print(factorial(N))  # Output: 24\n"
   ]
  },
  {
   "cell_type": "markdown",
   "id": "bb925d37",
   "metadata": {},
   "source": [
    "Question 4\n",
    "\n",
    "Given a number N and a power P, the task is to find the exponent of this number raised to the given power, i.e. N^P.\n",
    "\n",
    "Example 1 :\n",
    "\n",
    "Input: N = 5, P = 2\n",
    "\n",
    "Output: 25\n",
    "\n",
    "Example 2 :\n",
    "Input: N = 2, P = 5\n",
    "\n",
    "Output: 32"
   ]
  },
  {
   "cell_type": "code",
   "execution_count": 5,
   "id": "e3877959",
   "metadata": {},
   "outputs": [
    {
     "name": "stdout",
     "output_type": "stream",
     "text": [
      "25\n",
      "32\n"
     ]
    }
   ],
   "source": [
    "def exponent(N, P):\n",
    "    result = 1\n",
    "    for _ in range(P):\n",
    "        result *= N\n",
    "    return result\n",
    "\n",
    "N = 5\n",
    "P = 2\n",
    "print(exponent(N, P))  # Output: 25\n",
    "\n",
    "N = 2\n",
    "P = 5\n",
    "print(exponent(N, P))  # Output: 32\n"
   ]
  },
  {
   "cell_type": "markdown",
   "id": "870e26de",
   "metadata": {},
   "source": [
    "Question 5\n",
    "\n",
    "Given an array of integers arr, the task is to find maximum element of that array using recursion.\n",
    "\n",
    "Example 1:\n",
    "\n",
    "Input: arr = {1, 4, 3, -5, -4, 8, 6};\n",
    "Output: 8\n",
    "\n",
    "Example 2:\n",
    "\n",
    "Input: arr = {1, 4, 45, 6, 10, -8};\n",
    "Output: 45"
   ]
  },
  {
   "cell_type": "code",
   "execution_count": 6,
   "id": "c589df4f",
   "metadata": {},
   "outputs": [
    {
     "name": "stdout",
     "output_type": "stream",
     "text": [
      "8\n",
      "45\n"
     ]
    }
   ],
   "source": [
    "def findMax(arr, start, end):\n",
    "    if start == end:\n",
    "        return arr[start]\n",
    "    \n",
    "    mid = (start + end) // 2\n",
    "    \n",
    "    left_max = findMax(arr, start, mid)\n",
    "    right_max = findMax(arr, mid + 1, end)\n",
    "    \n",
    "    return max(left_max, right_max)\n",
    "\n",
    "def findMaximum(arr):\n",
    "    return findMax(arr, 0, len(arr) - 1)\n",
    "\n",
    "\n",
    "arr = [1, 4, 3, -5, -4, 8, 6]\n",
    "print(findMaximum(arr))  # Output: 8\n",
    "\n",
    "arr = [1, 4, 45, 6, 10, -8]\n",
    "print(findMaximum(arr))  # Output: 45\n"
   ]
  },
  {
   "cell_type": "markdown",
   "id": "76344552",
   "metadata": {},
   "source": [
    "Question 6\n",
    "\n",
    "Given first term (a), common difference (d) and a integer N of the Arithmetic Progression series, the task is to find Nth term of the series.\n",
    "\n",
    "Example 1:\n",
    "\n",
    "Input : a = 2 d = 1 N = 5\n",
    "Output : 6\n",
    "The 5th term of the series is : 6\n",
    "\n",
    "Example 2:\n",
    "\n",
    "Input : a = 5 d = 2 N = 10\n",
    "Output : 23\n",
    "The 10th term of the series is : 23"
   ]
  },
  {
   "cell_type": "code",
   "execution_count": 7,
   "id": "50a5c0b2",
   "metadata": {},
   "outputs": [
    {
     "name": "stdout",
     "output_type": "stream",
     "text": [
      "6\n",
      "23\n"
     ]
    }
   ],
   "source": [
    "def findNthTerm(a, d, N):\n",
    "    Nth_term = a + (N - 1) * d\n",
    "    return Nth_term\n",
    "\n",
    "a = 2\n",
    "d = 1\n",
    "N = 5\n",
    "print(findNthTerm(a, d, N))  # Output: 6\n",
    "\n",
    "a = 5\n",
    "d = 2\n",
    "N = 10\n",
    "print(findNthTerm(a, d, N))  # Output: 23\n",
    "\n"
   ]
  },
  {
   "cell_type": "markdown",
   "id": "49a63a3e",
   "metadata": {},
   "source": [
    "Question 7\n",
    "\n",
    "Given a string S, the task is to write a program to print all permutations of a given string.\n",
    "\n",
    "Example 1:\n",
    "\n",
    "Input:\n",
    "\n",
    "S = “ABC”\n",
    "\n",
    "Output:\n",
    "\n",
    "“ABC”, “ACB”, “BAC”, “BCA”, “CBA”, “CAB”\n",
    "\n",
    "Example 2:\n",
    "\n",
    "Input:\n",
    "\n",
    "S = “XY”\n",
    "\n",
    "Output:\n",
    "\n",
    "“XY”, “YX”"
   ]
  },
  {
   "cell_type": "code",
   "execution_count": 8,
   "id": "8d6d817e",
   "metadata": {},
   "outputs": [
    {
     "name": "stdout",
     "output_type": "stream",
     "text": [
      "['ABC', 'ACB', 'BAC', 'BCA', 'CBA', 'CAB']\n",
      "['XY', 'YX']\n"
     ]
    }
   ],
   "source": [
    "def permuteUtil(S, start, result):\n",
    "    if start == len(S):\n",
    "        result.append(''.join(S))\n",
    "        return\n",
    "    \n",
    "    for i in range(start, len(S)):\n",
    "        S[start], S[i] = S[i], S[start]\n",
    "        permuteUtil(S, start + 1, result)\n",
    "        S[start], S[i] = S[i], S[start]\n",
    "\n",
    "def permute(S):\n",
    "    result = []\n",
    "    permuteUtil(list(S), 0, result)\n",
    "    return result\n",
    "\n",
    "\n",
    "S = \"ABC\"\n",
    "print(permute(S))  # Output: [\"ABC\", \"ACB\", \"BAC\", \"BCA\", \"CBA\", \"CAB\"]\n",
    "\n",
    "S = \"XY\"\n",
    "print(permute(S))  # Output: [\"XY\", \"YX\"]\n"
   ]
  },
  {
   "cell_type": "markdown",
   "id": "53a30321",
   "metadata": {},
   "source": [
    "Question 8\n",
    "\n",
    "Given an array, find a product of all array elements.\n",
    "\n",
    "Example 1:\n",
    "\n",
    "Input  : arr[] = {1, 2, 3, 4, 5}\n",
    "Output : 120\n",
    "Example 2:\n",
    "\n",
    "Input  : arr[] = {1, 6, 3}\n",
    "Output : 18"
   ]
  },
  {
   "cell_type": "code",
   "execution_count": 9,
   "id": "34df4532",
   "metadata": {},
   "outputs": [
    {
     "name": "stdout",
     "output_type": "stream",
     "text": [
      "120\n",
      "18\n"
     ]
    }
   ],
   "source": [
    "def productOfArray(arr):\n",
    "    product = 1\n",
    "    for num in arr:\n",
    "        product *= num\n",
    "    return product\n",
    "\n",
    "\n",
    "arr = [1, 2, 3, 4, 5]\n",
    "print(productOfArray(arr))  # Output: 120\n",
    "\n",
    "arr = [1, 6, 3]\n",
    "print(productOfArray(arr))  # Output: 18\n"
   ]
  }
 ],
 "metadata": {
  "kernelspec": {
   "display_name": "Python 3 (ipykernel)",
   "language": "python",
   "name": "python3"
  },
  "language_info": {
   "codemirror_mode": {
    "name": "ipython",
    "version": 3
   },
   "file_extension": ".py",
   "mimetype": "text/x-python",
   "name": "python",
   "nbconvert_exporter": "python",
   "pygments_lexer": "ipython3",
   "version": "3.9.12"
  }
 },
 "nbformat": 4,
 "nbformat_minor": 5
}
